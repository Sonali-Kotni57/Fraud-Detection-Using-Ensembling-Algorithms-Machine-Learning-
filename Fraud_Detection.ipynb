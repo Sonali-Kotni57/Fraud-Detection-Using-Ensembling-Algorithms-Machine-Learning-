{
  "nbformat": 4,
  "nbformat_minor": 0,
  "metadata": {
    "colab": {
      "name": "Fraud Detection",
      "provenance": [],
      "authorship_tag": "ABX9TyMFc74stT7FewZo4OlSMYxl",
      "include_colab_link": true
    },
    "kernelspec": {
      "name": "python3",
      "display_name": "Python 3"
    },
    "language_info": {
      "name": "python"
    },
    "widgets": {
      "application/vnd.jupyter.widget-state+json": {
        "885e0ec4fe3e4132b9e447870f8518c2": {
          "model_module": "catboost-widget",
          "model_name": "CatboostWidgetModel",
          "model_module_version": "^1.0.0",
          "state": {
            "_view_name": "CatboostWidgetView",
            "_dom_classes": [],
            "_model_name": "CatboostWidgetModel",
            "data": {
              "catboost_info": {
                "content": {
                  "data": {
                    "meta": {
                      "name": "experiment",
                      "parameters": "",
                      "test_metrics": [
                        {
                          "best_value": "Max",
                          "name": "AUC"
                        },
                        {
                          "best_value": "Min",
                          "name": "Logloss"
                        }
                      ],
                      "learn_sets": [
                        "learn"
                      ],
                      "launch_mode": "Train",
                      "learn_metrics": [
                        {
                          "best_value": "Min",
                          "name": "Logloss"
                        }
                      ],
                      "iteration_count": 500,
                      "test_sets": [
                        "test"
                      ]
                    },
                    "iterations": [
                      {
                        "test": [
                          0.9115396034,
                          0.6146602096
                        ],
                        "passed_time": 2.362176429,
                        "iteration": 0,
                        "remaining_time": 1178.726038,
                        "learn": [
                          0.6146763437
                        ]
                      },
                      {
                        "test": [
                          0.9808192103,
                          0.05755270155
                        ],
                        "passed_time": 29.6665851,
                        "iteration": 20,
                        "remaining_time": 676.6806791,
                        "learn": [
                          0.05756163955
                        ]
                      },
                      {
                        "test": [
                          0.9944727483,
                          0.007770099365
                        ],
                        "passed_time": 82.86569607,
                        "iteration": 40,
                        "remaining_time": 927.6915731,
                        "learn": [
                          0.00782655541
                        ]
                      },
                      {
                        "test": [
                          0.9970566186,
                          0.002622938679
                        ],
                        "passed_time": 132.556854,
                        "iteration": 60,
                        "remaining_time": 953.9747364,
                        "learn": [
                          0.002694748044
                        ]
                      },
                      {
                        "test": [
                          0.9976215341,
                          0.001677109827
                        ],
                        "passed_time": 183.792698,
                        "iteration": 80,
                        "remaining_time": 950.7301293,
                        "learn": [
                          0.001742999986
                        ]
                      },
                      {
                        "test": [
                          0.9978905007,
                          0.001388685716
                        ],
                        "passed_time": 229.9746128,
                        "iteration": 100,
                        "remaining_time": 908.5135692,
                        "learn": [
                          0.001442245334
                        ]
                      },
                      {
                        "test": [
                          0.9980512232,
                          0.001252337028
                        ],
                        "passed_time": 280.086347,
                        "iteration": 120,
                        "remaining_time": 877.2952523,
                        "learn": [
                          0.001295456683
                        ]
                      },
                      {
                        "test": [
                          0.9982875721,
                          0.001173939782
                        ],
                        "passed_time": 326.4693586,
                        "iteration": 140,
                        "remaining_time": 831.2234025,
                        "learn": [
                          0.00120575744
                        ]
                      },
                      {
                        "test": [
                          0.9983702882,
                          0.001145285426
                        ],
                        "passed_time": 369.2407123,
                        "iteration": 160,
                        "remaining_time": 777.4695743,
                        "learn": [
                          0.001168795038
                        ]
                      },
                      {
                        "test": [
                          0.9984181252,
                          0.001124872188
                        ],
                        "passed_time": 412.5606251,
                        "iteration": 180,
                        "remaining_time": 727.1096099,
                        "learn": [
                          0.001135189438
                        ]
                      },
                      {
                        "test": [
                          0.9984325328,
                          0.001108795628
                        ],
                        "passed_time": 450.5712029,
                        "iteration": 200,
                        "remaining_time": 670.2526849,
                        "learn": [
                          0.001106901599
                        ]
                      },
                      {
                        "test": [
                          0.9984848288,
                          0.001093191618
                        ],
                        "passed_time": 490.0701741,
                        "iteration": 220,
                        "remaining_time": 618.6858759,
                        "learn": [
                          0.001081674137
                        ]
                      },
                      {
                        "test": [
                          0.9985034675,
                          0.00108211417
                        ],
                        "passed_time": 529.114558,
                        "iteration": 240,
                        "remaining_time": 568.6334877,
                        "learn": [
                          0.001063878723
                        ]
                      },
                      {
                        "test": [
                          0.9985435809,
                          0.001071073807
                        ],
                        "passed_time": 569.5223387,
                        "iteration": 260,
                        "remaining_time": 521.5166243,
                        "learn": [
                          0.001041576252
                        ]
                      },
                      {
                        "test": [
                          0.9985811319,
                          0.001062477654
                        ],
                        "passed_time": 607.1791318,
                        "iteration": 280,
                        "remaining_time": 473.2107825,
                        "learn": [
                          0.001024204245
                        ]
                      },
                      {
                        "test": [
                          0.9986069744,
                          0.001054872592
                        ],
                        "passed_time": 649.2267126,
                        "iteration": 300,
                        "remaining_time": 429.2229761,
                        "learn": [
                          0.001005959812
                        ]
                      },
                      {
                        "test": [
                          0.998629744,
                          0.001048595303
                        ],
                        "passed_time": 681.6775002,
                        "iteration": 320,
                        "remaining_time": 380.1254596,
                        "learn": [
                          0.0009933270906
                        ]
                      },
                      {
                        "test": [
                          0.9986386165,
                          0.001044717868
                        ],
                        "passed_time": 721.247244,
                        "iteration": 340,
                        "remaining_time": 336.3000346,
                        "learn": [
                          0.0009796991866
                        ]
                      },
                      {
                        "test": [
                          0.9986512277,
                          0.001038255762
                        ],
                        "passed_time": 763.2380652,
                        "iteration": 360,
                        "remaining_time": 293.8783686,
                        "learn": [
                          0.0009630114475
                        ]
                      },
                      {
                        "test": [
                          0.9986715808,
                          0.00103552807
                        ],
                        "passed_time": 795.320616,
                        "iteration": 380,
                        "remaining_time": 248.4072265,
                        "learn": [
                          0.0009541665602
                        ]
                      },
                      {
                        "test": [
                          0.9986764411,
                          0.00103126514
                        ],
                        "passed_time": 833.9996363,
                        "iteration": 400,
                        "remaining_time": 205.9001596,
                        "learn": [
                          0.0009424912398
                        ]
                      },
                      {
                        "test": [
                          0.9987136273,
                          0.001025247163
                        ],
                        "passed_time": 868.3116269,
                        "iteration": 420,
                        "remaining_time": 162.9373362,
                        "learn": [
                          0.0009289248565
                        ]
                      },
                      {
                        "test": [
                          0.9987288556,
                          0.00102112754
                        ],
                        "passed_time": 900.8820238,
                        "iteration": 440,
                        "remaining_time": 120.5261665,
                        "learn": [
                          0.0009171702887
                        ]
                      },
                      {
                        "test": [
                          0.9987395337,
                          0.001018201452
                        ],
                        "passed_time": 934.4281479,
                        "iteration": 460,
                        "remaining_time": 79.05140514,
                        "learn": [
                          0.0009006148761
                        ]
                      },
                      {
                        "test": [
                          0.9987585645,
                          0.001014515155
                        ],
                        "passed_time": 970.2798553,
                        "iteration": 480,
                        "remaining_time": 38.32706289,
                        "learn": [
                          0.0008880198936
                        ]
                      },
                      {
                        "test": [
                          0.9987562939,
                          0.001010926635
                        ],
                        "passed_time": 1006.719275,
                        "iteration": 499,
                        "remaining_time": 0,
                        "learn": [
                          0.0008749265404
                        ]
                      }
                    ]
                  },
                  "total_iterations": 500,
                  "passed_iterations": 499
                },
                "path": "catboost_info",
                "name": "catboost_info"
              }
            },
            "_view_module": "catboost-widget",
            "_model_module_version": "^1.0.0",
            "_view_count": null,
            "_view_module_version": "^1.0.0",
            "layout": "IPY_MODEL_b05e1d2422d341318d7373b284415c63",
            "_model_module": "catboost-widget"
          }
        },
        "fc75adb729ed45f3b1f53bb2b5a55abd": {
          "model_module": "catboost-widget",
          "model_name": "CatboostWidgetModel",
          "model_module_version": "^1.0.0",
          "state": {
            "_view_name": "CatboostWidgetView",
            "_dom_classes": [],
            "_model_name": "CatboostWidgetModel",
            "data": {
              "catboost_info": {
                "content": {
                  "data": {
                    "meta": {
                      "name": "experiment",
                      "parameters": "",
                      "test_metrics": [
                        {
                          "best_value": "Min",
                          "name": "RMSE"
                        }
                      ],
                      "learn_sets": [
                        "learn"
                      ],
                      "launch_mode": "Train",
                      "learn_metrics": [
                        {
                          "best_value": "Min",
                          "name": "RMSE"
                        }
                      ],
                      "iteration_count": 50,
                      "test_sets": [
                        "test"
                      ]
                    },
                    "iterations": [
                      {
                        "test": [
                          0.03181153886
                        ],
                        "passed_time": 0.240612324,
                        "iteration": 0,
                        "remaining_time": 11.79000387,
                        "learn": [
                          0.03130620507
                        ]
                      },
                      {
                        "test": [
                          0.03055435851
                        ],
                        "passed_time": 0.4072908895,
                        "iteration": 1,
                        "remaining_time": 9.774981348,
                        "learn": [
                          0.02999332267
                        ]
                      },
                      {
                        "test": [
                          0.02948784141
                        ],
                        "passed_time": 0.5297299917,
                        "iteration": 2,
                        "remaining_time": 8.299103204,
                        "learn": [
                          0.02888222873
                        ]
                      },
                      {
                        "test": [
                          0.02855277434
                        ],
                        "passed_time": 0.6478388052,
                        "iteration": 3,
                        "remaining_time": 7.450146259,
                        "learn": [
                          0.0279499265
                        ]
                      },
                      {
                        "test": [
                          0.02779657818
                        ],
                        "passed_time": 0.7598823109,
                        "iteration": 4,
                        "remaining_time": 6.838940798,
                        "learn": [
                          0.02716670331
                        ]
                      },
                      {
                        "test": [
                          0.02714416164
                        ],
                        "passed_time": 0.9336798097,
                        "iteration": 5,
                        "remaining_time": 6.846985271,
                        "learn": [
                          0.02649561199
                        ]
                      },
                      {
                        "test": [
                          0.0266029381
                        ],
                        "passed_time": 1.047901814,
                        "iteration": 6,
                        "remaining_time": 6.437111144,
                        "learn": [
                          0.02593948584
                        ]
                      },
                      {
                        "test": [
                          0.02615323378
                        ],
                        "passed_time": 1.157456978,
                        "iteration": 7,
                        "remaining_time": 6.076649136,
                        "learn": [
                          0.02549338236
                        ]
                      },
                      {
                        "test": [
                          0.02578211501
                        ],
                        "passed_time": 1.270132359,
                        "iteration": 8,
                        "remaining_time": 5.786158524,
                        "learn": [
                          0.02511081346
                        ]
                      },
                      {
                        "test": [
                          0.0254721563
                        ],
                        "passed_time": 1.381173218,
                        "iteration": 9,
                        "remaining_time": 5.524692872,
                        "learn": [
                          0.02480405136
                        ]
                      },
                      {
                        "test": [
                          0.0252186252
                        ],
                        "passed_time": 1.494769017,
                        "iteration": 10,
                        "remaining_time": 5.299635606,
                        "learn": [
                          0.02455132432
                        ]
                      },
                      {
                        "test": [
                          0.02500741161
                        ],
                        "passed_time": 1.605157131,
                        "iteration": 11,
                        "remaining_time": 5.082997583,
                        "learn": [
                          0.02434181131
                        ]
                      },
                      {
                        "test": [
                          0.02483085684
                        ],
                        "passed_time": 1.721535345,
                        "iteration": 12,
                        "remaining_time": 4.899754445,
                        "learn": [
                          0.0241707157
                        ]
                      },
                      {
                        "test": [
                          0.02468932371
                        ],
                        "passed_time": 1.846338922,
                        "iteration": 13,
                        "remaining_time": 4.747728657,
                        "learn": [
                          0.02402791354
                        ]
                      },
                      {
                        "test": [
                          0.02457244868
                        ],
                        "passed_time": 1.961026356,
                        "iteration": 14,
                        "remaining_time": 4.575728163,
                        "learn": [
                          0.02390986964
                        ]
                      },
                      {
                        "test": [
                          0.02447248893
                        ],
                        "passed_time": 2.074463688,
                        "iteration": 15,
                        "remaining_time": 4.408235337,
                        "learn": [
                          0.02380357962
                        ]
                      },
                      {
                        "test": [
                          0.02411148286
                        ],
                        "passed_time": 2.19093307,
                        "iteration": 16,
                        "remaining_time": 4.252987725,
                        "learn": [
                          0.02350314116
                        ]
                      },
                      {
                        "test": [
                          0.02404474789
                        ],
                        "passed_time": 2.309962472,
                        "iteration": 17,
                        "remaining_time": 4.10659995,
                        "learn": [
                          0.02343414133
                        ]
                      },
                      {
                        "test": [
                          0.02375476449
                        ],
                        "passed_time": 2.423908593,
                        "iteration": 18,
                        "remaining_time": 3.954798231,
                        "learn": [
                          0.02319815036
                        ]
                      },
                      {
                        "test": [
                          0.02351596085
                        ],
                        "passed_time": 2.537959832,
                        "iteration": 19,
                        "remaining_time": 3.806939748,
                        "learn": [
                          0.02300402618
                        ]
                      },
                      {
                        "test": [
                          0.02314743999
                        ],
                        "passed_time": 2.656607513,
                        "iteration": 20,
                        "remaining_time": 3.66864847,
                        "learn": [
                          0.0227017442
                        ]
                      },
                      {
                        "test": [
                          0.02311407461
                        ],
                        "passed_time": 2.764580704,
                        "iteration": 21,
                        "remaining_time": 3.518557259,
                        "learn": [
                          0.02266471903
                        ]
                      },
                      {
                        "test": [
                          0.02294406418
                        ],
                        "passed_time": 2.881141133,
                        "iteration": 22,
                        "remaining_time": 3.382209156,
                        "learn": [
                          0.02253294227
                        ]
                      },
                      {
                        "test": [
                          0.02285467428
                        ],
                        "passed_time": 2.993785444,
                        "iteration": 23,
                        "remaining_time": 3.243267565,
                        "learn": [
                          0.02245507324
                        ]
                      },
                      {
                        "test": [
                          0.02283587514
                        ],
                        "passed_time": 3.107837523,
                        "iteration": 24,
                        "remaining_time": 3.107837523,
                        "learn": [
                          0.02243359118
                        ]
                      },
                      {
                        "test": [
                          0.02281727576
                        ],
                        "passed_time": 3.219640124,
                        "iteration": 25,
                        "remaining_time": 2.971975499,
                        "learn": [
                          0.02241332831
                        ]
                      },
                      {
                        "test": [
                          0.02280401558
                        ],
                        "passed_time": 3.32867409,
                        "iteration": 26,
                        "remaining_time": 2.835537188,
                        "learn": [
                          0.02239800935
                        ]
                      },
                      {
                        "test": [
                          0.02267749753
                        ],
                        "passed_time": 3.438562096,
                        "iteration": 27,
                        "remaining_time": 2.701727361,
                        "learn": [
                          0.02230370811
                        ]
                      },
                      {
                        "test": [
                          0.02266830282
                        ],
                        "passed_time": 3.552474118,
                        "iteration": 28,
                        "remaining_time": 2.572481258,
                        "learn": [
                          0.02229309697
                        ]
                      },
                      {
                        "test": [
                          0.02248240816
                        ],
                        "passed_time": 3.669995745,
                        "iteration": 29,
                        "remaining_time": 2.44666383,
                        "learn": [
                          0.02214450085
                        ]
                      },
                      {
                        "test": [
                          0.02247691079
                        ],
                        "passed_time": 3.780536876,
                        "iteration": 30,
                        "remaining_time": 2.317103246,
                        "learn": [
                          0.02213696939
                        ]
                      },
                      {
                        "test": [
                          0.02247264297
                        ],
                        "passed_time": 3.894582495,
                        "iteration": 31,
                        "remaining_time": 2.190702653,
                        "learn": [
                          0.02213078399
                        ]
                      },
                      {
                        "test": [
                          0.02225964511
                        ],
                        "passed_time": 4.007951679,
                        "iteration": 32,
                        "remaining_time": 2.06470238,
                        "learn": [
                          0.02196295695
                        ]
                      },
                      {
                        "test": [
                          0.02208338957
                        ],
                        "passed_time": 4.117496913,
                        "iteration": 33,
                        "remaining_time": 1.937645606,
                        "learn": [
                          0.02179361045
                        ]
                      },
                      {
                        "test": [
                          0.02207951502
                        ],
                        "passed_time": 4.229216036,
                        "iteration": 34,
                        "remaining_time": 1.812521158,
                        "learn": [
                          0.02178848343
                        ]
                      },
                      {
                        "test": [
                          0.02190811891
                        ],
                        "passed_time": 4.3404622,
                        "iteration": 35,
                        "remaining_time": 1.687957522,
                        "learn": [
                          0.02165446457
                        ]
                      },
                      {
                        "test": [
                          0.02190612042
                        ],
                        "passed_time": 4.456411134,
                        "iteration": 36,
                        "remaining_time": 1.565766074,
                        "learn": [
                          0.02165207439
                        ]
                      },
                      {
                        "test": [
                          0.02190356691
                        ],
                        "passed_time": 4.566016217,
                        "iteration": 37,
                        "remaining_time": 1.441899858,
                        "learn": [
                          0.02164839375
                        ]
                      },
                      {
                        "test": [
                          0.02149847937
                        ],
                        "passed_time": 4.683451466,
                        "iteration": 38,
                        "remaining_time": 1.32097349,
                        "learn": [
                          0.02127576634
                        ]
                      },
                      {
                        "test": [
                          0.02116253213
                        ],
                        "passed_time": 4.795675277,
                        "iteration": 39,
                        "remaining_time": 1.198918819,
                        "learn": [
                          0.02096860597
                        ]
                      },
                      {
                        "test": [
                          0.02104635619
                        ],
                        "passed_time": 4.91337226,
                        "iteration": 40,
                        "remaining_time": 1.07854513,
                        "learn": [
                          0.02085577734
                        ]
                      },
                      {
                        "test": [
                          0.02094371565
                        ],
                        "passed_time": 5.025570323,
                        "iteration": 41,
                        "remaining_time": 0.95725149,
                        "learn": [
                          0.02076405283
                        ]
                      },
                      {
                        "test": [
                          0.02085766815
                        ],
                        "passed_time": 5.14775821,
                        "iteration": 42,
                        "remaining_time": 0.8380071505,
                        "learn": [
                          0.02068513879
                        ]
                      },
                      {
                        "test": [
                          0.02082054751
                        ],
                        "passed_time": 5.260239445,
                        "iteration": 43,
                        "remaining_time": 0.7173053789,
                        "learn": [
                          0.02065053293
                        ]
                      },
                      {
                        "test": [
                          0.02082027304
                        ],
                        "passed_time": 5.379972421,
                        "iteration": 44,
                        "remaining_time": 0.5977747134,
                        "learn": [
                          0.020646461
                        ]
                      },
                      {
                        "test": [
                          0.02076884047
                        ],
                        "passed_time": 5.493220998,
                        "iteration": 45,
                        "remaining_time": 0.4776713912,
                        "learn": [
                          0.02060187656
                        ]
                      },
                      {
                        "test": [
                          0.02068282034
                        ],
                        "passed_time": 5.610029852,
                        "iteration": 46,
                        "remaining_time": 0.3580870118,
                        "learn": [
                          0.02052935955
                        ]
                      },
                      {
                        "test": [
                          0.02065517814
                        ],
                        "passed_time": 5.737129255,
                        "iteration": 47,
                        "remaining_time": 0.2390470523,
                        "learn": [
                          0.0205013857
                        ]
                      },
                      {
                        "test": [
                          0.02063422876
                        ],
                        "passed_time": 5.855803125,
                        "iteration": 48,
                        "remaining_time": 0.1195061862,
                        "learn": [
                          0.02047882054
                        ]
                      },
                      {
                        "test": [
                          0.02063317828
                        ],
                        "passed_time": 5.970373262,
                        "iteration": 49,
                        "remaining_time": 0,
                        "learn": [
                          0.02047525
                        ]
                      }
                    ]
                  },
                  "total_iterations": 50,
                  "passed_iterations": 49
                },
                "path": "catboost_info",
                "name": "catboost_info"
              }
            },
            "_view_module": "catboost-widget",
            "_model_module_version": "^1.0.0",
            "_view_count": null,
            "_view_module_version": "^1.0.0",
            "layout": "IPY_MODEL_e330991558d54141ab91523ba8dccbfe",
            "_model_module": "catboost-widget"
          }
        }
      }
    }
  },
  "cells": [
    {
      "cell_type": "markdown",
      "metadata": {
        "id": "view-in-github",
        "colab_type": "text"
      },
      "source": [
        "<a href=\"https://colab.research.google.com/github/Sonali-Kotni57/Fraud-Detection-Using-Ensembling-Algorithms-Machine-Learning-/blob/main/Fraud_Detection.ipynb\" target=\"_parent\"><img src=\"https://colab.research.google.com/assets/colab-badge.svg\" alt=\"Open In Colab\"/></a>"
      ]
    },
    {
      "cell_type": "markdown",
      "metadata": {
        "id": "iy72wXNd-8Pu"
      },
      "source": [
        "#**Fraud Detection**\n",
        "\n"
      ]
    },
    {
      "cell_type": "markdown",
      "metadata": {
        "id": "h1idm0rTnVv0"
      },
      "source": [
        "step - maps a unit of time in the real world. In this case 1 step is 1 hour of time. Total steps 744 (30 days simulation).\n",
        "\n",
        "type - CASH-IN, CASH-OUT, DEBIT, PAYMENT and TRANSFER.\n",
        "\n",
        "amount - amount of the transaction in local currency.\n",
        "\n",
        "nameOrig - customer who started the transaction\n",
        "\n",
        "oldbalanceOrg - initial balance before the transaction\n",
        "\n",
        "newbalanceOrig - new balance after the transaction\n",
        "\n",
        "nameDest - customer who is the recipient of the transaction\n",
        "\n",
        "oldbalanceDest - initial balance recipient before the transaction. Note that there is not information for customers that start with M (Merchants).\n",
        "\n",
        "newbalanceDest - new balance recipient after the transaction. Note that there is not information for customers that start with M (Merchants).\n",
        "\n",
        "isFraud - This is the transactions made by the fraudulent agents inside the simulation. In this specific dataset the fraudulent behavior of the agents aims to profit by taking control or customers accounts and try to empty the funds by transferring to another account and then cashing out of the system.\n",
        "\n",
        "isFlaggedFraud - The business model aims to control massive transfers from one account to another and flags illegal attempts. An illegal attempt in this dataset is an attempt to transfer more than 200.000 in a single transaction."
      ]
    },
    {
      "cell_type": "markdown",
      "metadata": {
        "id": "SWUIWUT0_FzX"
      },
      "source": [
        "**Importing the Packages**"
      ]
    },
    {
      "cell_type": "code",
      "metadata": {
        "colab": {
          "base_uri": "https://localhost:8080/",
          "height": 17
        },
        "id": "hQ2jbp2H9nuK",
        "outputId": "03d06d2f-42a8-4e31-9b5b-03814ca42933"
      },
      "source": [
        "import numpy as np \n",
        "import pandas as pd\n",
        "import os\n",
        "import matplotlib\n",
        "import matplotlib.pyplot as plt\n",
        "from tqdm import tqdm_notebook\n",
        "import seaborn as sns\n",
        "%matplotlib inline \n",
        "import plotly.graph_objs as go\n",
        "import plotly.figure_factory as ff\n",
        "from plotly import tools\n",
        "from plotly.offline import download_plotlyjs, init_notebook_mode, plot, iplot\n",
        "init_notebook_mode(connected=True)"
      ],
      "execution_count": null,
      "outputs": [
        {
          "output_type": "display_data",
          "data": {
            "text/html": [
              "        <script type=\"text/javascript\">\n",
              "        window.PlotlyConfig = {MathJaxConfig: 'local'};\n",
              "        if (window.MathJax) {MathJax.Hub.Config({SVG: {font: \"STIX-Web\"}});}\n",
              "        if (typeof require !== 'undefined') {\n",
              "        require.undef(\"plotly\");\n",
              "        requirejs.config({\n",
              "            paths: {\n",
              "                'plotly': ['https://cdn.plot.ly/plotly-latest.min']\n",
              "            }\n",
              "        });\n",
              "        require(['plotly'], function(Plotly) {\n",
              "            window._Plotly = Plotly;\n",
              "        });\n",
              "        }\n",
              "        </script>\n",
              "        "
            ]
          },
          "metadata": {}
        }
      ]
    },
    {
      "cell_type": "markdown",
      "metadata": {
        "id": "NDPDh-al_Lo8"
      },
      "source": [
        "**Loading The DataSet**"
      ]
    },
    {
      "cell_type": "code",
      "metadata": {
        "id": "MywB7myz_P13"
      },
      "source": [
        "FD = pd.read_csv(\"/content/sample_data/Fraud.csv\")"
      ],
      "execution_count": null,
      "outputs": []
    },
    {
      "cell_type": "markdown",
      "metadata": {
        "id": "3oaz1YL5_lOG"
      },
      "source": [
        "**Shape of the Dataset**"
      ]
    },
    {
      "cell_type": "code",
      "metadata": {
        "colab": {
          "base_uri": "https://localhost:8080/"
        },
        "id": "rzB4yM6l_oaw",
        "outputId": "062ab5e0-bec2-4677-c3fb-5d26c09416ef"
      },
      "source": [
        "print(f\"Data shape: {FD.shape}\")\n"
      ],
      "execution_count": null,
      "outputs": [
        {
          "output_type": "stream",
          "name": "stdout",
          "text": [
            "Data shape: (1048575, 11)\n"
          ]
        }
      ]
    },
    {
      "cell_type": "markdown",
      "metadata": {
        "id": "j1r0ySRopILV"
      },
      "source": [
        "**Information of the dataset**"
      ]
    },
    {
      "cell_type": "code",
      "metadata": {
        "colab": {
          "base_uri": "https://localhost:8080/",
          "height": 200
        },
        "id": "seNyxUi3_10M",
        "outputId": "55752429-6ffe-48c4-9c79-a918a757e3c8"
      },
      "source": [
        "FD.head()"
      ],
      "execution_count": null,
      "outputs": [
        {
          "output_type": "execute_result",
          "data": {
            "text/html": [
              "<div>\n",
              "<style scoped>\n",
              "    .dataframe tbody tr th:only-of-type {\n",
              "        vertical-align: middle;\n",
              "    }\n",
              "\n",
              "    .dataframe tbody tr th {\n",
              "        vertical-align: top;\n",
              "    }\n",
              "\n",
              "    .dataframe thead th {\n",
              "        text-align: right;\n",
              "    }\n",
              "</style>\n",
              "<table border=\"1\" class=\"dataframe\">\n",
              "  <thead>\n",
              "    <tr style=\"text-align: right;\">\n",
              "      <th></th>\n",
              "      <th>step</th>\n",
              "      <th>type</th>\n",
              "      <th>amount</th>\n",
              "      <th>nameOrig</th>\n",
              "      <th>oldbalanceOrg</th>\n",
              "      <th>newbalanceOrig</th>\n",
              "      <th>nameDest</th>\n",
              "      <th>oldbalanceDest</th>\n",
              "      <th>newbalanceDest</th>\n",
              "      <th>isFraud</th>\n",
              "      <th>isFlaggedFraud</th>\n",
              "    </tr>\n",
              "  </thead>\n",
              "  <tbody>\n",
              "    <tr>\n",
              "      <th>0</th>\n",
              "      <td>1</td>\n",
              "      <td>PAYMENT</td>\n",
              "      <td>9839.64</td>\n",
              "      <td>C1231006815</td>\n",
              "      <td>170136.0</td>\n",
              "      <td>160296.36</td>\n",
              "      <td>M1979787155</td>\n",
              "      <td>0.0</td>\n",
              "      <td>0.0</td>\n",
              "      <td>0</td>\n",
              "      <td>0</td>\n",
              "    </tr>\n",
              "    <tr>\n",
              "      <th>1</th>\n",
              "      <td>1</td>\n",
              "      <td>PAYMENT</td>\n",
              "      <td>1864.28</td>\n",
              "      <td>C1666544295</td>\n",
              "      <td>21249.0</td>\n",
              "      <td>19384.72</td>\n",
              "      <td>M2044282225</td>\n",
              "      <td>0.0</td>\n",
              "      <td>0.0</td>\n",
              "      <td>0</td>\n",
              "      <td>0</td>\n",
              "    </tr>\n",
              "    <tr>\n",
              "      <th>2</th>\n",
              "      <td>1</td>\n",
              "      <td>TRANSFER</td>\n",
              "      <td>181.00</td>\n",
              "      <td>C1305486145</td>\n",
              "      <td>181.0</td>\n",
              "      <td>0.00</td>\n",
              "      <td>C553264065</td>\n",
              "      <td>0.0</td>\n",
              "      <td>0.0</td>\n",
              "      <td>1</td>\n",
              "      <td>0</td>\n",
              "    </tr>\n",
              "    <tr>\n",
              "      <th>3</th>\n",
              "      <td>1</td>\n",
              "      <td>CASH_OUT</td>\n",
              "      <td>181.00</td>\n",
              "      <td>C840083671</td>\n",
              "      <td>181.0</td>\n",
              "      <td>0.00</td>\n",
              "      <td>C38997010</td>\n",
              "      <td>21182.0</td>\n",
              "      <td>0.0</td>\n",
              "      <td>1</td>\n",
              "      <td>0</td>\n",
              "    </tr>\n",
              "    <tr>\n",
              "      <th>4</th>\n",
              "      <td>1</td>\n",
              "      <td>PAYMENT</td>\n",
              "      <td>11668.14</td>\n",
              "      <td>C2048537720</td>\n",
              "      <td>41554.0</td>\n",
              "      <td>29885.86</td>\n",
              "      <td>M1230701703</td>\n",
              "      <td>0.0</td>\n",
              "      <td>0.0</td>\n",
              "      <td>0</td>\n",
              "      <td>0</td>\n",
              "    </tr>\n",
              "  </tbody>\n",
              "</table>\n",
              "</div>"
            ],
            "text/plain": [
              "   step      type    amount  ... newbalanceDest  isFraud  isFlaggedFraud\n",
              "0     1   PAYMENT   9839.64  ...            0.0        0               0\n",
              "1     1   PAYMENT   1864.28  ...            0.0        0               0\n",
              "2     1  TRANSFER    181.00  ...            0.0        1               0\n",
              "3     1  CASH_OUT    181.00  ...            0.0        1               0\n",
              "4     1   PAYMENT  11668.14  ...            0.0        0               0\n",
              "\n",
              "[5 rows x 11 columns]"
            ]
          },
          "metadata": {},
          "execution_count": 137
        }
      ]
    },
    {
      "cell_type": "code",
      "metadata": {
        "colab": {
          "base_uri": "https://localhost:8080/"
        },
        "id": "4Jf7GhVAACj2",
        "outputId": "d1ae0245-e069-4835-c253-6dc7e11cebc4"
      },
      "source": [
        "FD.info()\n"
      ],
      "execution_count": null,
      "outputs": [
        {
          "output_type": "stream",
          "name": "stdout",
          "text": [
            "<class 'pandas.core.frame.DataFrame'>\n",
            "RangeIndex: 1048575 entries, 0 to 1048574\n",
            "Data columns (total 11 columns):\n",
            " #   Column          Non-Null Count    Dtype  \n",
            "---  ------          --------------    -----  \n",
            " 0   step            1048575 non-null  int64  \n",
            " 1   type            1048575 non-null  object \n",
            " 2   amount          1048575 non-null  float64\n",
            " 3   nameOrig        1048575 non-null  object \n",
            " 4   oldbalanceOrg   1048575 non-null  float64\n",
            " 5   newbalanceOrig  1048575 non-null  float64\n",
            " 6   nameDest        1048575 non-null  object \n",
            " 7   oldbalanceDest  1048575 non-null  float64\n",
            " 8   newbalanceDest  1048575 non-null  float64\n",
            " 9   isFraud         1048575 non-null  int64  \n",
            " 10  isFlaggedFraud  1048575 non-null  int64  \n",
            "dtypes: float64(5), int64(3), object(3)\n",
            "memory usage: 88.0+ MB\n"
          ]
        }
      ]
    },
    {
      "cell_type": "code",
      "metadata": {
        "colab": {
          "base_uri": "https://localhost:8080/",
          "height": 290
        },
        "id": "0zQ5y6UhALiC",
        "outputId": "fc75df08-862c-4331-b1b0-e63f3e9dd933"
      },
      "source": [
        "FD.describe()"
      ],
      "execution_count": null,
      "outputs": [
        {
          "output_type": "execute_result",
          "data": {
            "text/html": [
              "<div>\n",
              "<style scoped>\n",
              "    .dataframe tbody tr th:only-of-type {\n",
              "        vertical-align: middle;\n",
              "    }\n",
              "\n",
              "    .dataframe tbody tr th {\n",
              "        vertical-align: top;\n",
              "    }\n",
              "\n",
              "    .dataframe thead th {\n",
              "        text-align: right;\n",
              "    }\n",
              "</style>\n",
              "<table border=\"1\" class=\"dataframe\">\n",
              "  <thead>\n",
              "    <tr style=\"text-align: right;\">\n",
              "      <th></th>\n",
              "      <th>step</th>\n",
              "      <th>amount</th>\n",
              "      <th>oldbalanceOrg</th>\n",
              "      <th>newbalanceOrig</th>\n",
              "      <th>oldbalanceDest</th>\n",
              "      <th>newbalanceDest</th>\n",
              "      <th>isFraud</th>\n",
              "      <th>isFlaggedFraud</th>\n",
              "    </tr>\n",
              "  </thead>\n",
              "  <tbody>\n",
              "    <tr>\n",
              "      <th>count</th>\n",
              "      <td>1.048575e+06</td>\n",
              "      <td>1.048575e+06</td>\n",
              "      <td>1.048575e+06</td>\n",
              "      <td>1.048575e+06</td>\n",
              "      <td>1.048575e+06</td>\n",
              "      <td>1.048575e+06</td>\n",
              "      <td>1.048575e+06</td>\n",
              "      <td>1048575.0</td>\n",
              "    </tr>\n",
              "    <tr>\n",
              "      <th>mean</th>\n",
              "      <td>2.696617e+01</td>\n",
              "      <td>1.586670e+05</td>\n",
              "      <td>8.740095e+05</td>\n",
              "      <td>8.938089e+05</td>\n",
              "      <td>9.781600e+05</td>\n",
              "      <td>1.114198e+06</td>\n",
              "      <td>1.089097e-03</td>\n",
              "      <td>0.0</td>\n",
              "    </tr>\n",
              "    <tr>\n",
              "      <th>std</th>\n",
              "      <td>1.562325e+01</td>\n",
              "      <td>2.649409e+05</td>\n",
              "      <td>2.971751e+06</td>\n",
              "      <td>3.008271e+06</td>\n",
              "      <td>2.296780e+06</td>\n",
              "      <td>2.416593e+06</td>\n",
              "      <td>3.298351e-02</td>\n",
              "      <td>0.0</td>\n",
              "    </tr>\n",
              "    <tr>\n",
              "      <th>min</th>\n",
              "      <td>1.000000e+00</td>\n",
              "      <td>1.000000e-01</td>\n",
              "      <td>0.000000e+00</td>\n",
              "      <td>0.000000e+00</td>\n",
              "      <td>0.000000e+00</td>\n",
              "      <td>0.000000e+00</td>\n",
              "      <td>0.000000e+00</td>\n",
              "      <td>0.0</td>\n",
              "    </tr>\n",
              "    <tr>\n",
              "      <th>25%</th>\n",
              "      <td>1.500000e+01</td>\n",
              "      <td>1.214907e+04</td>\n",
              "      <td>0.000000e+00</td>\n",
              "      <td>0.000000e+00</td>\n",
              "      <td>0.000000e+00</td>\n",
              "      <td>0.000000e+00</td>\n",
              "      <td>0.000000e+00</td>\n",
              "      <td>0.0</td>\n",
              "    </tr>\n",
              "    <tr>\n",
              "      <th>50%</th>\n",
              "      <td>2.000000e+01</td>\n",
              "      <td>7.634333e+04</td>\n",
              "      <td>1.600200e+04</td>\n",
              "      <td>0.000000e+00</td>\n",
              "      <td>1.263772e+05</td>\n",
              "      <td>2.182604e+05</td>\n",
              "      <td>0.000000e+00</td>\n",
              "      <td>0.0</td>\n",
              "    </tr>\n",
              "    <tr>\n",
              "      <th>75%</th>\n",
              "      <td>3.900000e+01</td>\n",
              "      <td>2.137619e+05</td>\n",
              "      <td>1.366420e+05</td>\n",
              "      <td>1.746000e+05</td>\n",
              "      <td>9.159235e+05</td>\n",
              "      <td>1.149808e+06</td>\n",
              "      <td>0.000000e+00</td>\n",
              "      <td>0.0</td>\n",
              "    </tr>\n",
              "    <tr>\n",
              "      <th>max</th>\n",
              "      <td>9.500000e+01</td>\n",
              "      <td>1.000000e+07</td>\n",
              "      <td>3.890000e+07</td>\n",
              "      <td>3.890000e+07</td>\n",
              "      <td>4.210000e+07</td>\n",
              "      <td>4.220000e+07</td>\n",
              "      <td>1.000000e+00</td>\n",
              "      <td>0.0</td>\n",
              "    </tr>\n",
              "  </tbody>\n",
              "</table>\n",
              "</div>"
            ],
            "text/plain": [
              "               step        amount  ...       isFraud  isFlaggedFraud\n",
              "count  1.048575e+06  1.048575e+06  ...  1.048575e+06       1048575.0\n",
              "mean   2.696617e+01  1.586670e+05  ...  1.089097e-03             0.0\n",
              "std    1.562325e+01  2.649409e+05  ...  3.298351e-02             0.0\n",
              "min    1.000000e+00  1.000000e-01  ...  0.000000e+00             0.0\n",
              "25%    1.500000e+01  1.214907e+04  ...  0.000000e+00             0.0\n",
              "50%    2.000000e+01  7.634333e+04  ...  0.000000e+00             0.0\n",
              "75%    3.900000e+01  2.137619e+05  ...  0.000000e+00             0.0\n",
              "max    9.500000e+01  1.000000e+07  ...  1.000000e+00             0.0\n",
              "\n",
              "[8 rows x 8 columns]"
            ]
          },
          "metadata": {},
          "execution_count": 139
        }
      ]
    },
    {
      "cell_type": "markdown",
      "metadata": {
        "id": "OLFs1SowATsO"
      },
      "source": [
        "**Data Cleaning**"
      ]
    },
    {
      "cell_type": "code",
      "metadata": {
        "id": "tlVocwFWAR3I"
      },
      "source": [
        "def missing_data(data):\n",
        "    total = data.isnull().sum()\n",
        "    percent = (data.isnull().sum()/data.isnull().count()*100)\n",
        "    tt = pd.concat([total, percent], axis=1, keys=['Total', 'Percent'])\n",
        "    types = []\n",
        "    for col in data.columns:\n",
        "        dtype = str(data[col].dtype)\n",
        "        types.append(dtype)\n",
        "    tt['Types'] = types\n",
        "    return(np.transpose(tt))"
      ],
      "execution_count": null,
      "outputs": []
    },
    {
      "cell_type": "code",
      "metadata": {
        "colab": {
          "base_uri": "https://localhost:8080/",
          "height": 408
        },
        "id": "X0oixBMrA-aM",
        "outputId": "471473ad-4416-4cfb-bc2c-7dcb0c555426"
      },
      "source": [
        "FD.dropna(thresh=2)"
      ],
      "execution_count": null,
      "outputs": [
        {
          "output_type": "execute_result",
          "data": {
            "text/html": [
              "<div>\n",
              "<style scoped>\n",
              "    .dataframe tbody tr th:only-of-type {\n",
              "        vertical-align: middle;\n",
              "    }\n",
              "\n",
              "    .dataframe tbody tr th {\n",
              "        vertical-align: top;\n",
              "    }\n",
              "\n",
              "    .dataframe thead th {\n",
              "        text-align: right;\n",
              "    }\n",
              "</style>\n",
              "<table border=\"1\" class=\"dataframe\">\n",
              "  <thead>\n",
              "    <tr style=\"text-align: right;\">\n",
              "      <th></th>\n",
              "      <th>step</th>\n",
              "      <th>type</th>\n",
              "      <th>amount</th>\n",
              "      <th>nameOrig</th>\n",
              "      <th>oldbalanceOrg</th>\n",
              "      <th>newbalanceOrig</th>\n",
              "      <th>nameDest</th>\n",
              "      <th>oldbalanceDest</th>\n",
              "      <th>newbalanceDest</th>\n",
              "      <th>isFraud</th>\n",
              "      <th>isFlaggedFraud</th>\n",
              "    </tr>\n",
              "  </thead>\n",
              "  <tbody>\n",
              "    <tr>\n",
              "      <th>0</th>\n",
              "      <td>1</td>\n",
              "      <td>PAYMENT</td>\n",
              "      <td>9839.64</td>\n",
              "      <td>C1231006815</td>\n",
              "      <td>170136.00</td>\n",
              "      <td>160296.36</td>\n",
              "      <td>M1979787155</td>\n",
              "      <td>0.00</td>\n",
              "      <td>0.00</td>\n",
              "      <td>0</td>\n",
              "      <td>0</td>\n",
              "    </tr>\n",
              "    <tr>\n",
              "      <th>1</th>\n",
              "      <td>1</td>\n",
              "      <td>PAYMENT</td>\n",
              "      <td>1864.28</td>\n",
              "      <td>C1666544295</td>\n",
              "      <td>21249.00</td>\n",
              "      <td>19384.72</td>\n",
              "      <td>M2044282225</td>\n",
              "      <td>0.00</td>\n",
              "      <td>0.00</td>\n",
              "      <td>0</td>\n",
              "      <td>0</td>\n",
              "    </tr>\n",
              "    <tr>\n",
              "      <th>2</th>\n",
              "      <td>1</td>\n",
              "      <td>TRANSFER</td>\n",
              "      <td>181.00</td>\n",
              "      <td>C1305486145</td>\n",
              "      <td>181.00</td>\n",
              "      <td>0.00</td>\n",
              "      <td>C553264065</td>\n",
              "      <td>0.00</td>\n",
              "      <td>0.00</td>\n",
              "      <td>1</td>\n",
              "      <td>0</td>\n",
              "    </tr>\n",
              "    <tr>\n",
              "      <th>3</th>\n",
              "      <td>1</td>\n",
              "      <td>CASH_OUT</td>\n",
              "      <td>181.00</td>\n",
              "      <td>C840083671</td>\n",
              "      <td>181.00</td>\n",
              "      <td>0.00</td>\n",
              "      <td>C38997010</td>\n",
              "      <td>21182.00</td>\n",
              "      <td>0.00</td>\n",
              "      <td>1</td>\n",
              "      <td>0</td>\n",
              "    </tr>\n",
              "    <tr>\n",
              "      <th>4</th>\n",
              "      <td>1</td>\n",
              "      <td>PAYMENT</td>\n",
              "      <td>11668.14</td>\n",
              "      <td>C2048537720</td>\n",
              "      <td>41554.00</td>\n",
              "      <td>29885.86</td>\n",
              "      <td>M1230701703</td>\n",
              "      <td>0.00</td>\n",
              "      <td>0.00</td>\n",
              "      <td>0</td>\n",
              "      <td>0</td>\n",
              "    </tr>\n",
              "    <tr>\n",
              "      <th>...</th>\n",
              "      <td>...</td>\n",
              "      <td>...</td>\n",
              "      <td>...</td>\n",
              "      <td>...</td>\n",
              "      <td>...</td>\n",
              "      <td>...</td>\n",
              "      <td>...</td>\n",
              "      <td>...</td>\n",
              "      <td>...</td>\n",
              "      <td>...</td>\n",
              "      <td>...</td>\n",
              "    </tr>\n",
              "    <tr>\n",
              "      <th>1048570</th>\n",
              "      <td>95</td>\n",
              "      <td>CASH_OUT</td>\n",
              "      <td>132557.35</td>\n",
              "      <td>C1179511630</td>\n",
              "      <td>479803.00</td>\n",
              "      <td>347245.65</td>\n",
              "      <td>C435674507</td>\n",
              "      <td>484329.37</td>\n",
              "      <td>616886.72</td>\n",
              "      <td>0</td>\n",
              "      <td>0</td>\n",
              "    </tr>\n",
              "    <tr>\n",
              "      <th>1048571</th>\n",
              "      <td>95</td>\n",
              "      <td>PAYMENT</td>\n",
              "      <td>9917.36</td>\n",
              "      <td>C1956161225</td>\n",
              "      <td>90545.00</td>\n",
              "      <td>80627.64</td>\n",
              "      <td>M668364942</td>\n",
              "      <td>0.00</td>\n",
              "      <td>0.00</td>\n",
              "      <td>0</td>\n",
              "      <td>0</td>\n",
              "    </tr>\n",
              "    <tr>\n",
              "      <th>1048572</th>\n",
              "      <td>95</td>\n",
              "      <td>PAYMENT</td>\n",
              "      <td>14140.05</td>\n",
              "      <td>C2037964975</td>\n",
              "      <td>20545.00</td>\n",
              "      <td>6404.95</td>\n",
              "      <td>M1355182933</td>\n",
              "      <td>0.00</td>\n",
              "      <td>0.00</td>\n",
              "      <td>0</td>\n",
              "      <td>0</td>\n",
              "    </tr>\n",
              "    <tr>\n",
              "      <th>1048573</th>\n",
              "      <td>95</td>\n",
              "      <td>PAYMENT</td>\n",
              "      <td>10020.05</td>\n",
              "      <td>C1633237354</td>\n",
              "      <td>90605.00</td>\n",
              "      <td>80584.95</td>\n",
              "      <td>M1964992463</td>\n",
              "      <td>0.00</td>\n",
              "      <td>0.00</td>\n",
              "      <td>0</td>\n",
              "      <td>0</td>\n",
              "    </tr>\n",
              "    <tr>\n",
              "      <th>1048574</th>\n",
              "      <td>95</td>\n",
              "      <td>PAYMENT</td>\n",
              "      <td>11450.03</td>\n",
              "      <td>C1264356443</td>\n",
              "      <td>80584.95</td>\n",
              "      <td>69134.92</td>\n",
              "      <td>M677577406</td>\n",
              "      <td>0.00</td>\n",
              "      <td>0.00</td>\n",
              "      <td>0</td>\n",
              "      <td>0</td>\n",
              "    </tr>\n",
              "  </tbody>\n",
              "</table>\n",
              "<p>1048575 rows × 11 columns</p>\n",
              "</div>"
            ],
            "text/plain": [
              "         step      type     amount  ... newbalanceDest  isFraud  isFlaggedFraud\n",
              "0           1   PAYMENT    9839.64  ...           0.00        0               0\n",
              "1           1   PAYMENT    1864.28  ...           0.00        0               0\n",
              "2           1  TRANSFER     181.00  ...           0.00        1               0\n",
              "3           1  CASH_OUT     181.00  ...           0.00        1               0\n",
              "4           1   PAYMENT   11668.14  ...           0.00        0               0\n",
              "...       ...       ...        ...  ...            ...      ...             ...\n",
              "1048570    95  CASH_OUT  132557.35  ...      616886.72        0               0\n",
              "1048571    95   PAYMENT    9917.36  ...           0.00        0               0\n",
              "1048572    95   PAYMENT   14140.05  ...           0.00        0               0\n",
              "1048573    95   PAYMENT   10020.05  ...           0.00        0               0\n",
              "1048574    95   PAYMENT   11450.03  ...           0.00        0               0\n",
              "\n",
              "[1048575 rows x 11 columns]"
            ]
          },
          "metadata": {},
          "execution_count": 141
        }
      ]
    },
    {
      "cell_type": "code",
      "metadata": {
        "colab": {
          "base_uri": "https://localhost:8080/"
        },
        "id": "ahf-568-Bybe",
        "outputId": "c34fa649-ce9e-443d-8857-6816826ad03b"
      },
      "source": [
        "nan_value = float(\"NaN\")\n",
        "\n",
        "FD.replace(\"\", nan_value, inplace=True)\n",
        "\n",
        "FD.dropna(subset = [\"isFraud\"], inplace=True)\n",
        "\n",
        "print(FD)"
      ],
      "execution_count": null,
      "outputs": [
        {
          "output_type": "stream",
          "name": "stdout",
          "text": [
            "         step      type     amount  ... newbalanceDest  isFraud  isFlaggedFraud\n",
            "0           1   PAYMENT    9839.64  ...           0.00        0               0\n",
            "1           1   PAYMENT    1864.28  ...           0.00        0               0\n",
            "2           1  TRANSFER     181.00  ...           0.00        1               0\n",
            "3           1  CASH_OUT     181.00  ...           0.00        1               0\n",
            "4           1   PAYMENT   11668.14  ...           0.00        0               0\n",
            "...       ...       ...        ...  ...            ...      ...             ...\n",
            "1048570    95  CASH_OUT  132557.35  ...      616886.72        0               0\n",
            "1048571    95   PAYMENT    9917.36  ...           0.00        0               0\n",
            "1048572    95   PAYMENT   14140.05  ...           0.00        0               0\n",
            "1048573    95   PAYMENT   10020.05  ...           0.00        0               0\n",
            "1048574    95   PAYMENT   11450.03  ...           0.00        0               0\n",
            "\n",
            "[1048575 rows x 11 columns]\n"
          ]
        }
      ]
    },
    {
      "cell_type": "code",
      "metadata": {
        "colab": {
          "base_uri": "https://localhost:8080/",
          "height": 138
        },
        "id": "-JOIaszUAXYy",
        "outputId": "c5ae26d2-8f5a-4156-f5cb-bc81a1a27010"
      },
      "source": [
        "missing_data(FD)"
      ],
      "execution_count": null,
      "outputs": [
        {
          "output_type": "execute_result",
          "data": {
            "text/html": [
              "<div>\n",
              "<style scoped>\n",
              "    .dataframe tbody tr th:only-of-type {\n",
              "        vertical-align: middle;\n",
              "    }\n",
              "\n",
              "    .dataframe tbody tr th {\n",
              "        vertical-align: top;\n",
              "    }\n",
              "\n",
              "    .dataframe thead th {\n",
              "        text-align: right;\n",
              "    }\n",
              "</style>\n",
              "<table border=\"1\" class=\"dataframe\">\n",
              "  <thead>\n",
              "    <tr style=\"text-align: right;\">\n",
              "      <th></th>\n",
              "      <th>step</th>\n",
              "      <th>type</th>\n",
              "      <th>amount</th>\n",
              "      <th>nameOrig</th>\n",
              "      <th>oldbalanceOrg</th>\n",
              "      <th>newbalanceOrig</th>\n",
              "      <th>nameDest</th>\n",
              "      <th>oldbalanceDest</th>\n",
              "      <th>newbalanceDest</th>\n",
              "      <th>isFraud</th>\n",
              "      <th>isFlaggedFraud</th>\n",
              "    </tr>\n",
              "  </thead>\n",
              "  <tbody>\n",
              "    <tr>\n",
              "      <th>Total</th>\n",
              "      <td>0</td>\n",
              "      <td>0</td>\n",
              "      <td>0</td>\n",
              "      <td>0</td>\n",
              "      <td>0</td>\n",
              "      <td>0</td>\n",
              "      <td>0</td>\n",
              "      <td>0</td>\n",
              "      <td>0</td>\n",
              "      <td>0</td>\n",
              "      <td>0</td>\n",
              "    </tr>\n",
              "    <tr>\n",
              "      <th>Percent</th>\n",
              "      <td>0</td>\n",
              "      <td>0</td>\n",
              "      <td>0</td>\n",
              "      <td>0</td>\n",
              "      <td>0</td>\n",
              "      <td>0</td>\n",
              "      <td>0</td>\n",
              "      <td>0</td>\n",
              "      <td>0</td>\n",
              "      <td>0</td>\n",
              "      <td>0</td>\n",
              "    </tr>\n",
              "    <tr>\n",
              "      <th>Types</th>\n",
              "      <td>int64</td>\n",
              "      <td>object</td>\n",
              "      <td>float64</td>\n",
              "      <td>object</td>\n",
              "      <td>float64</td>\n",
              "      <td>float64</td>\n",
              "      <td>object</td>\n",
              "      <td>float64</td>\n",
              "      <td>float64</td>\n",
              "      <td>int64</td>\n",
              "      <td>int64</td>\n",
              "    </tr>\n",
              "  </tbody>\n",
              "</table>\n",
              "</div>"
            ],
            "text/plain": [
              "          step    type   amount  ... newbalanceDest isFraud isFlaggedFraud\n",
              "Total        0       0        0  ...              0       0              0\n",
              "Percent      0       0        0  ...              0       0              0\n",
              "Types    int64  object  float64  ...        float64   int64          int64\n",
              "\n",
              "[3 rows x 11 columns]"
            ]
          },
          "metadata": {},
          "execution_count": 143
        }
      ]
    },
    {
      "cell_type": "code",
      "metadata": {
        "id": "BQ-gr-_zAhKo"
      },
      "source": [
        "def unique_values(data):\n",
        "    total = data.count()\n",
        "    tt = pd.DataFrame(total)\n",
        "    tt.columns = ['Total']\n",
        "    uniques = []\n",
        "    for col in data.columns:\n",
        "        unique = data[col].nunique()\n",
        "        uniques.append(unique)\n",
        "    tt['Uniques'] = uniques\n",
        "    return(np.transpose(tt))"
      ],
      "execution_count": null,
      "outputs": []
    },
    {
      "cell_type": "code",
      "metadata": {
        "colab": {
          "base_uri": "https://localhost:8080/",
          "height": 108
        },
        "id": "aCtM2ROJAkKR",
        "outputId": "7112b425-77cf-4ed1-854a-929c1d87d8e8"
      },
      "source": [
        "unique_values(FD)"
      ],
      "execution_count": null,
      "outputs": [
        {
          "output_type": "execute_result",
          "data": {
            "text/html": [
              "<div>\n",
              "<style scoped>\n",
              "    .dataframe tbody tr th:only-of-type {\n",
              "        vertical-align: middle;\n",
              "    }\n",
              "\n",
              "    .dataframe tbody tr th {\n",
              "        vertical-align: top;\n",
              "    }\n",
              "\n",
              "    .dataframe thead th {\n",
              "        text-align: right;\n",
              "    }\n",
              "</style>\n",
              "<table border=\"1\" class=\"dataframe\">\n",
              "  <thead>\n",
              "    <tr style=\"text-align: right;\">\n",
              "      <th></th>\n",
              "      <th>step</th>\n",
              "      <th>type</th>\n",
              "      <th>amount</th>\n",
              "      <th>nameOrig</th>\n",
              "      <th>oldbalanceOrg</th>\n",
              "      <th>newbalanceOrig</th>\n",
              "      <th>nameDest</th>\n",
              "      <th>oldbalanceDest</th>\n",
              "      <th>newbalanceDest</th>\n",
              "      <th>isFraud</th>\n",
              "      <th>isFlaggedFraud</th>\n",
              "    </tr>\n",
              "  </thead>\n",
              "  <tbody>\n",
              "    <tr>\n",
              "      <th>Total</th>\n",
              "      <td>1048575</td>\n",
              "      <td>1048575</td>\n",
              "      <td>1048575</td>\n",
              "      <td>1048575</td>\n",
              "      <td>1048575</td>\n",
              "      <td>1048575</td>\n",
              "      <td>1048575</td>\n",
              "      <td>1048575</td>\n",
              "      <td>1048575</td>\n",
              "      <td>1048575</td>\n",
              "      <td>1048575</td>\n",
              "    </tr>\n",
              "    <tr>\n",
              "      <th>Uniques</th>\n",
              "      <td>95</td>\n",
              "      <td>5</td>\n",
              "      <td>1009606</td>\n",
              "      <td>1048317</td>\n",
              "      <td>391033</td>\n",
              "      <td>440792</td>\n",
              "      <td>449635</td>\n",
              "      <td>590110</td>\n",
              "      <td>437054</td>\n",
              "      <td>2</td>\n",
              "      <td>1</td>\n",
              "    </tr>\n",
              "  </tbody>\n",
              "</table>\n",
              "</div>"
            ],
            "text/plain": [
              "            step     type   amount  ...  newbalanceDest  isFraud  isFlaggedFraud\n",
              "Total    1048575  1048575  1048575  ...         1048575  1048575         1048575\n",
              "Uniques       95        5  1009606  ...          437054        2               1\n",
              "\n",
              "[2 rows x 11 columns]"
            ]
          },
          "metadata": {},
          "execution_count": 145
        }
      ]
    },
    {
      "cell_type": "markdown",
      "metadata": {
        "id": "xXFxL7dICYl2"
      },
      "source": [
        "**Distribution of Data**\n",
        "\n",
        "Here, count plot and box plot  is used for visualizing the data"
      ]
    },
    {
      "cell_type": "code",
      "metadata": {
        "id": "f7uQQEPPCsm-"
      },
      "source": [
        "def plot_count(df, feature, title='', size=2):\n",
        "    f, ax = plt.subplots(1,1, figsize=(3*size,2*size))\n",
        "    total = float(len(df))\n",
        "    sns.countplot(df[feature],order = df[feature].value_counts().index, palette='Set3')\n",
        "    plt.title(title)\n",
        "    if(size > 2):\n",
        "        plt.xticks(rotation=90, size=8)\n",
        "    for p in ax.patches:\n",
        "        height = p.get_height()\n",
        "        ax.text(p.get_x()+p.get_width()/2.,\n",
        "                height + 3,\n",
        "                '{:1.4f}%'.format(100*height/total),\n",
        "                ha=\"center\") \n",
        "    plt.show()"
      ],
      "execution_count": null,
      "outputs": []
    },
    {
      "cell_type": "code",
      "metadata": {
        "colab": {
          "base_uri": "https://localhost:8080/",
          "height": 467
        },
        "id": "YJSXb9phCzlh",
        "outputId": "05d5018e-b7a7-40fb-bace-12bce06dd331"
      },
      "source": [
        "plot_count(FD, 'type', 'Distribution of type (count & percent)', size=2.5)"
      ],
      "execution_count": null,
      "outputs": [
        {
          "output_type": "stream",
          "name": "stderr",
          "text": [
            "/usr/local/lib/python3.7/dist-packages/seaborn/_decorators.py:43: FutureWarning:\n",
            "\n",
            "Pass the following variable as a keyword arg: x. From version 0.12, the only valid positional argument will be `data`, and passing other arguments without an explicit keyword will result in an error or misinterpretation.\n",
            "\n"
          ]
        },
        {
          "output_type": "display_data",
          "data": {
            "image/png": "[encoded data removed]",
            "text/plain": [
              "<Figure size 540x360 with 1 Axes>"
            ]
          },
          "metadata": {
            "needs_background": "light"
          }
        }
      ]
    },
    {
      "cell_type": "code",
      "metadata": {
        "colab": {
          "base_uri": "https://localhost:8080/",
          "height": 430
        },
        "id": "cj_HnJncC7mx",
        "outputId": "cc37e8f8-6750-41d1-ac7f-a1baa3083a5b"
      },
      "source": [
        "plot_count(FD, 'isFraud', 'Distribution of `isFraud` (count & percent)', size=2.5)"
      ],
      "execution_count": null,
      "outputs": [
        {
          "output_type": "stream",
          "name": "stderr",
          "text": [
            "/usr/local/lib/python3.7/dist-packages/seaborn/_decorators.py:43: FutureWarning:\n",
            "\n",
            "Pass the following variable as a keyword arg: x. From version 0.12, the only valid positional argument will be `data`, and passing other arguments without an explicit keyword will result in an error or misinterpretation.\n",
            "\n"
          ]
        },
        {
          "output_type": "display_data",
          "data": {
            "image/png": "[encoded data removed]",
            "text/plain": [
              "<Figure size 540x360 with 1 Axes>"
            ]
          },
          "metadata": {
            "needs_background": "light"
          }
        }
      ]
    },
    {
      "cell_type": "code",
      "metadata": {
        "colab": {
          "base_uri": "https://localhost:8080/",
          "height": 430
        },
        "id": "_iRC1BKdDAYO",
        "outputId": "18743987-427c-4795-adfc-8baeddf2248d"
      },
      "source": [
        "plot_count(FD, 'isFlaggedFraud', 'Distribution of `isFlaggedFraud` (count & percent)', size=2.5)"
      ],
      "execution_count": null,
      "outputs": [
        {
          "output_type": "stream",
          "name": "stderr",
          "text": [
            "/usr/local/lib/python3.7/dist-packages/seaborn/_decorators.py:43: FutureWarning:\n",
            "\n",
            "Pass the following variable as a keyword arg: x. From version 0.12, the only valid positional argument will be `data`, and passing other arguments without an explicit keyword will result in an error or misinterpretation.\n",
            "\n"
          ]
        },
        {
          "output_type": "display_data",
          "data": {
            "image/png": "[encoded data removed]",
            "text/plain": [
              "<Figure size 540x360 with 1 Axes>"
            ]
          },
          "metadata": {
            "needs_background": "light"
          }
        }
      ]
    },
    {
      "cell_type": "code",
      "metadata": {
        "colab": {
          "base_uri": "https://localhost:8080/",
          "height": 387
        },
        "id": "r26Gzgr0DF5X",
        "outputId": "efb5399a-a844-4c9e-9ff6-2a0af41cb03c"
      },
      "source": [
        "fig, (ax1, ax2) = plt.subplots(ncols=2, figsize=(12,6))\n",
        "s = sns.boxplot(ax = ax1, x=\"isFraud\", y=\"step\", hue=\"isFraud\",data=FD, palette=\"PRGn\",showfliers=True)\n",
        "s = sns.boxplot(ax = ax2, x=\"isFraud\", y=\"step\", hue=\"isFraud\",data=FD, palette=\"PRGn\",showfliers=False)\n",
        "plt.show()"
      ],
      "execution_count": null,
      "outputs": [
        {
          "output_type": "display_data",
          "data": {
            "image/png": "[encoded data removed]",
            "text/plain": [
              "<Figure size 864x432 with 2 Axes>"
            ]
          },
          "metadata": {
            "needs_background": "light"
          }
        }
      ]
    },
    {
      "cell_type": "code",
      "metadata": {
        "colab": {
          "base_uri": "https://localhost:8080/",
          "height": 387
        },
        "id": "X7vhkoe8DOT2",
        "outputId": "7da40b03-34ae-43cb-b290-86fa7767e3e9"
      },
      "source": [
        "fig, (ax1, ax2) = plt.subplots(ncols=2, figsize=(12,6))\n",
        "s = sns.boxplot(ax = ax1, x=\"isFlaggedFraud\", y=\"step\", hue=\"isFlaggedFraud\",data=FD, palette=\"PRGn\",showfliers=True)\n",
        "s = sns.boxplot(ax = ax2, x=\"isFlaggedFraud\", y=\"step\", hue=\"isFlaggedFraud\",data=FD, palette=\"PRGn\",showfliers=False)\n",
        "plt.show()"
      ],
      "execution_count": null,
      "outputs": [
        {
          "output_type": "display_data",
          "data": {
            "image/png": "[encoded data removed]",
            "text/plain": [
              "<Figure size 864x432 with 2 Axes>"
            ]
          },
          "metadata": {
            "needs_background": "light"
          }
        }
      ]
    },
    {
      "cell_type": "code",
      "metadata": {
        "colab": {
          "base_uri": "https://localhost:8080/",
          "height": 713
        },
        "id": "JgXD62WQDbQT",
        "outputId": "003b7edd-a275-4c82-c5b6-af5910c77a7f"
      },
      "source": [
        "fig, (ax1, ax2) = plt.subplots(nrows=2, figsize=(16,12))\n",
        "s = sns.boxplot(ax = ax1, x=\"isFraud\", y=\"step\", hue=\"type\",data=FD, palette=\"PRGn\",showfliers=True)\n",
        "s = sns.boxplot(ax = ax2, x=\"isFraud\", y=\"step\", hue=\"type\",data=FD, palette=\"PRGn\",showfliers=False)\n",
        "plt.show()"
      ],
      "execution_count": null,
      "outputs": [
        {
          "output_type": "display_data",
          "data": {
            "image/png": "[encoded data removed]",
            "text/plain": [
              "<Figure size 1152x864 with 2 Axes>"
            ]
          },
          "metadata": {
            "needs_background": "light"
          }
        }
      ]
    },
    {
      "cell_type": "code",
      "metadata": {
        "colab": {
          "base_uri": "https://localhost:8080/",
          "height": 713
        },
        "id": "Z0o9gWh4DkKN",
        "outputId": "e166c020-57ba-4f04-99d6-a6855da93c55"
      },
      "source": [
        "fig, (ax1, ax2) = plt.subplots(nrows=2, figsize=(16,12))\n",
        "s = sns.boxplot(ax = ax1, x=\"isFlaggedFraud\", y=\"step\", hue=\"type\",data=FD, palette=\"PRGn\",showfliers=True)\n",
        "s = sns.boxplot(ax = ax2, x=\"isFlaggedFraud\", y=\"step\", hue=\"type\",data=FD, palette=\"PRGn\",showfliers=False)\n",
        "plt.show()"
      ],
      "execution_count": null,
      "outputs": [
        {
          "output_type": "display_data",
          "data": {
            "image/png": "[encoded data removed]",
            "text/plain": [
              "<Figure size 1152x864 with 2 Axes>"
            ]
          },
          "metadata": {
            "needs_background": "light"
          }
        }
      ]
    },
    {
      "cell_type": "code",
      "metadata": {
        "colab": {
          "base_uri": "https://localhost:8080/",
          "height": 725
        },
        "id": "R-IKdvTmDqS6",
        "outputId": "fad469f9-d286-4d53-e95c-fa3655ad25c5"
      },
      "source": [
        "fig, (ax1, ax2) = plt.subplots(nrows=2, figsize=(16,12))\n",
        "s = sns.boxplot(ax = ax1, x=\"isFraud\", y=\"amount\", hue=\"type\",data=FD, palette=\"PRGn\",showfliers=True)\n",
        "s = sns.boxplot(ax = ax2, x=\"isFraud\", y=\"amount\", hue=\"type\",data=FD, palette=\"PRGn\",showfliers=False)\n",
        "plt.show()"
      ],
      "execution_count": null,
      "outputs": [
        {
          "output_type": "display_data",
          "data": {
            "image/png": "[encoded data removed]",
            "text/plain": [
              "<Figure size 1152x864 with 2 Axes>"
            ]
          },
          "metadata": {
            "needs_background": "light"
          }
        }
      ]
    },
    {
      "cell_type": "code",
      "metadata": {
        "colab": {
          "base_uri": "https://localhost:8080/",
          "height": 725
        },
        "id": "QAzLe_PlELeO",
        "outputId": "0e2f25fc-bd6f-4edb-ce91-37cad693837e"
      },
      "source": [
        "fig, (ax1, ax2) = plt.subplots(nrows=2, figsize=(16,12))\n",
        "s = sns.boxplot(ax = ax1, x=\"isFraud\", y=\"amount\", hue=\"type\",data=FD, palette=\"PRGn\",showfliers=True)\n",
        "s = sns.boxplot(ax = ax2, x=\"isFraud\", y=\"amount\", hue=\"type\",data=FD, palette=\"PRGn\",showfliers=False)\n",
        "plt.show()"
      ],
      "execution_count": null,
      "outputs": [
        {
          "output_type": "display_data",
          "data": {
            "image/png": "[encoded data removed]",
            "text/plain": [
              "<Figure size 1152x864 with 2 Axes>"
            ]
          },
          "metadata": {
            "needs_background": "light"
          }
        }
      ]
    },
    {
      "cell_type": "code",
      "metadata": {
        "colab": {
          "base_uri": "https://localhost:8080/",
          "height": 725
        },
        "id": "tobEQ8g8ESw7",
        "outputId": "a40416ee-6457-44ad-ba45-0a7f8a38f068"
      },
      "source": [
        "fig, (ax1, ax2) = plt.subplots(nrows=2, figsize=(16,12))\n",
        "s = sns.boxplot(ax = ax1, x=\"isFraud\", y=\"oldbalanceOrg\", hue=\"type\",data=FD, palette=\"PRGn\",showfliers=True)\n",
        "s = sns.boxplot(ax = ax2, x=\"isFraud\", y=\"oldbalanceOrg\", hue=\"type\",data=FD, palette=\"PRGn\",showfliers=False)\n",
        "plt.show()"
      ],
      "execution_count": null,
      "outputs": [
        {
          "output_type": "display_data",
          "data": {
            "image/png": "[encoded data removed]",
            "text/plain": [
              "<Figure size 1152x864 with 2 Axes>"
            ]
          },
          "metadata": {
            "needs_background": "light"
          }
        }
      ]
    },
    {
      "cell_type": "code",
      "metadata": {
        "colab": {
          "base_uri": "https://localhost:8080/",
          "height": 725
        },
        "id": "-F0v8dS6E6TX",
        "outputId": "c9071d50-73be-4f9b-c941-816b51a2429d"
      },
      "source": [
        "fig, (ax1, ax2) = plt.subplots(nrows=2, figsize=(16,12))\n",
        "s = sns.boxplot(ax = ax1, x=\"isFraud\", y=\"newbalanceOrig\", hue=\"type\",data=FD, palette=\"PRGn\",showfliers=True)\n",
        "s = sns.boxplot(ax = ax2, x=\"isFraud\", y=\"newbalanceOrig\", hue=\"type\",data=FD, palette=\"PRGn\",showfliers=False)\n",
        "plt.show()"
      ],
      "execution_count": null,
      "outputs": [
        {
          "output_type": "display_data",
          "data": {
            "image/png": "[encoded data removed]",
            "text/plain": [
              "<Figure size 1152x864 with 2 Axes>"
            ]
          },
          "metadata": {
            "needs_background": "light"
          }
        }
      ]
    },
    {
      "cell_type": "code",
      "metadata": {
        "colab": {
          "base_uri": "https://localhost:8080/",
          "height": 725
        },
        "id": "18sxW2F9FB8I",
        "outputId": "a7e5621f-7cce-4a53-916d-00c88270969b"
      },
      "source": [
        "fig, (ax1, ax2) = plt.subplots(nrows=2, figsize=(16,12))\n",
        "s = sns.boxplot(ax = ax1, x=\"isFraud\", y=\"oldbalanceDest\", hue=\"type\",data=FD, palette=\"PRGn\",showfliers=True)\n",
        "s = sns.boxplot(ax = ax2, x=\"isFraud\", y=\"oldbalanceDest\", hue=\"type\",data=FD, palette=\"PRGn\",showfliers=False)\n",
        "plt.show()"
      ],
      "execution_count": null,
      "outputs": [
        {
          "output_type": "display_data",
          "data": {
            "image/png": "[encoded data removed]",
            "text/plain": [
              "<Figure size 1152x864 with 2 Axes>"
            ]
          },
          "metadata": {
            "needs_background": "light"
          }
        }
      ]
    },
    {
      "cell_type": "code",
      "metadata": {
        "colab": {
          "base_uri": "https://localhost:8080/",
          "height": 725
        },
        "id": "lOU97Ba7FMI_",
        "outputId": "5f84d898-5b70-4b49-d4f9-42ff5ff7a82d"
      },
      "source": [
        "fig, (ax1, ax2) = plt.subplots(nrows=2, figsize=(16,12))\n",
        "s = sns.boxplot(ax = ax1, x=\"isFraud\", y=\"newbalanceDest\", hue=\"type\",data=FD, palette=\"PRGn\",showfliers=True)\n",
        "s = sns.boxplot(ax = ax2, x=\"isFraud\", y=\"newbalanceDest\", hue=\"type\",data=FD, palette=\"PRGn\",showfliers=False)\n",
        "plt.show()"
      ],
      "execution_count": null,
      "outputs": [
        {
          "output_type": "display_data",
          "data": {
            "image/png": "[encoded data removed]",
            "text/plain": [
              "<Figure size 1152x864 with 2 Axes>"
            ]
          },
          "metadata": {
            "needs_background": "light"
          }
        }
      ]
    },
    {
      "cell_type": "markdown",
      "metadata": {
        "id": "vIE3nmIPFSvc"
      },
      "source": [
        "**Model Implementation**"
      ]
    },
    {
      "cell_type": "markdown",
      "metadata": {
        "id": "ed2KKXz6FWAi"
      },
      "source": [
        "**Splitting of Dataset**"
      ]
    },
    {
      "cell_type": "code",
      "metadata": {
        "id": "SXbVo8EAFY8n"
      },
      "source": [
        "from sklearn.model_selection import train_test_split\n",
        "from sklearn.metrics import roc_auc_score\n"
      ],
      "execution_count": null,
      "outputs": []
    },
    {
      "cell_type": "markdown",
      "metadata": {
        "id": "C9tNc2-PmlGC"
      },
      "source": [
        "**Installing CatBoost Package**"
      ]
    },
    {
      "cell_type": "code",
      "metadata": {
        "colab": {
          "base_uri": "https://localhost:8080/"
        },
        "id": "cK9PqMoWFtSO",
        "outputId": "2afae68f-73a9-4c9a-aac1-60f0d512f4ec"
      },
      "source": [
        "!pip3 install catboost"
      ],
      "execution_count": null,
      "outputs": [
        {
          "output_type": "stream",
          "name": "stdout",
          "text": [
            "Requirement already satisfied: catboost in /usr/local/lib/python3.7/dist-packages (0.26.1)\n",
            "Requirement already satisfied: graphviz in /usr/local/lib/python3.7/dist-packages (from catboost) (0.10.1)\n",
            "Requirement already satisfied: numpy>=1.16.0 in /usr/local/lib/python3.7/dist-packages (from catboost) (1.19.5)\n",
            "Requirement already satisfied: matplotlib in /usr/local/lib/python3.7/dist-packages (from catboost) (3.2.2)\n",
            "Requirement already satisfied: plotly in /usr/local/lib/python3.7/dist-packages (from catboost) (4.4.1)\n",
            "Requirement already satisfied: pandas>=0.24.0 in /usr/local/lib/python3.7/dist-packages (from catboost) (1.1.5)\n",
            "Requirement already satisfied: scipy in /usr/local/lib/python3.7/dist-packages (from catboost) (1.4.1)\n",
            "Requirement already satisfied: six in /usr/local/lib/python3.7/dist-packages (from catboost) (1.15.0)\n",
            "Requirement already satisfied: python-dateutil>=2.7.3 in /usr/local/lib/python3.7/dist-packages (from pandas>=0.24.0->catboost) (2.8.2)\n",
            "Requirement already satisfied: pytz>=2017.2 in /usr/local/lib/python3.7/dist-packages (from pandas>=0.24.0->catboost) (2018.9)\n",
            "Requirement already satisfied: cycler>=0.10 in /usr/local/lib/python3.7/dist-packages (from matplotlib->catboost) (0.10.0)\n",
            "Requirement already satisfied: kiwisolver>=1.0.1 in /usr/local/lib/python3.7/dist-packages (from matplotlib->catboost) (1.3.2)\n",
            "Requirement already satisfied: pyparsing!=2.0.4,!=2.1.2,!=2.1.6,>=2.0.1 in /usr/local/lib/python3.7/dist-packages (from matplotlib->catboost) (2.4.7)\n",
            "Requirement already satisfied: retrying>=1.3.3 in /usr/local/lib/python3.7/dist-packages (from plotly->catboost) (1.3.3)\n"
          ]
        }
      ]
    },
    {
      "cell_type": "markdown",
      "metadata": {
        "id": "d3uTCI-fmpT1"
      },
      "source": [
        "**CatBoost Classifier**"
      ]
    },
    {
      "cell_type": "code",
      "metadata": {
        "id": "VyT7o0zHFxnN"
      },
      "source": [
        "from catboost import CatBoostClassifier"
      ],
      "execution_count": null,
      "outputs": []
    },
    {
      "cell_type": "code",
      "metadata": {
        "id": "VDefpt-9F4mt"
      },
      "source": [
        "X = FD.drop(['isFraud', 'isFlaggedFraud'], axis=1)\n",
        "y = FD.isFraud"
      ],
      "execution_count": null,
      "outputs": []
    },
    {
      "cell_type": "markdown",
      "metadata": {
        "id": "k0h-Y1XOF-BQ"
      },
      "source": [
        "**train-validation split**"
      ]
    },
    {
      "cell_type": "code",
      "metadata": {
        "id": "8b7bkN_VGDVU"
      },
      "source": [
        "X_train, X_validation, y_train, y_validation = train_test_split(X, y, train_size=0.7, random_state=1234)"
      ],
      "execution_count": null,
      "outputs": []
    },
    {
      "cell_type": "code",
      "metadata": {
        "id": "chdmHyDWGKEr"
      },
      "source": [
        "categorical_features_indices = np.where(X.dtypes != np.float)[0]"
      ],
      "execution_count": null,
      "outputs": []
    },
    {
      "cell_type": "code",
      "metadata": {
        "colab": {
          "base_uri": "https://localhost:8080/",
          "height": 553,
          "referenced_widgets": [
            "885e0ec4fe3e4132b9e447870f8518c2"
          ]
        },
        "id": "f_6sABgnGQ28",
        "outputId": "f37a2a7b-6452-46be-96b5-94429cd5764d"
      },
      "source": [
        "clf.fit(X_train, y_train,cat_features=categorical_features_indices,eval_set=(X_validation, y_validation),plot=True)"
      ],
      "execution_count": null,
      "outputs": [
        {
          "output_type": "display_data",
          "data": {
            "application/vnd.jupyter.widget-view+json": {
              "model_id": "885e0ec4fe3e4132b9e447870f8518c2",
              "version_minor": 0,
              "version_major": 2
            },
            "text/plain": [
              "MetricVisualizer(layout=Layout(align_self='stretch', height='500px'))"
            ]
          },
          "metadata": {}
        },
        {
          "output_type": "stream",
          "name": "stderr",
          "text": [
            "Warning: Overfitting detector is active, thus evaluation metric is calculated on every iteration. 'metric_period' is ignored for evaluation metric.\n"
          ]
        },
        {
          "output_type": "stream",
          "name": "stdout",
          "text": [
            "0:\ttest: 0.9115396\tbest: 0.9115396 (0)\ttotal: 2.36s\tremaining: 19m 38s\n",
            "20:\ttest: 0.9808192\tbest: 0.9808192 (20)\ttotal: 29.7s\tremaining: 11m 16s\n",
            "40:\ttest: 0.9944727\tbest: 0.9944727 (40)\ttotal: 1m 22s\tremaining: 15m 27s\n",
            "60:\ttest: 0.9970566\tbest: 0.9970566 (60)\ttotal: 2m 12s\tremaining: 15m 53s\n",
            "80:\ttest: 0.9976215\tbest: 0.9976215 (80)\ttotal: 3m 3s\tremaining: 15m 50s\n",
            "100:\ttest: 0.9978905\tbest: 0.9978929 (98)\ttotal: 3m 49s\tremaining: 15m 8s\n",
            "120:\ttest: 0.9980512\tbest: 0.9980576 (119)\ttotal: 4m 40s\tremaining: 14m 37s\n",
            "140:\ttest: 0.9982876\tbest: 0.9982876 (140)\ttotal: 5m 26s\tremaining: 13m 51s\n",
            "160:\ttest: 0.9983703\tbest: 0.9983716 (157)\ttotal: 6m 9s\tremaining: 12m 57s\n",
            "180:\ttest: 0.9984181\tbest: 0.9984181 (180)\ttotal: 6m 52s\tremaining: 12m 7s\n",
            "200:\ttest: 0.9984325\tbest: 0.9984337 (196)\ttotal: 7m 30s\tremaining: 11m 10s\n",
            "220:\ttest: 0.9984848\tbest: 0.9984848 (220)\ttotal: 8m 10s\tremaining: 10m 18s\n",
            "240:\ttest: 0.9985035\tbest: 0.9985053 (238)\ttotal: 8m 49s\tremaining: 9m 28s\n",
            "260:\ttest: 0.9985436\tbest: 0.9985458 (252)\ttotal: 9m 29s\tremaining: 8m 41s\n",
            "280:\ttest: 0.9985811\tbest: 0.9985811 (280)\ttotal: 10m 7s\tremaining: 7m 53s\n",
            "300:\ttest: 0.9986070\tbest: 0.9986070 (300)\ttotal: 10m 49s\tremaining: 7m 9s\n",
            "320:\ttest: 0.9986297\tbest: 0.9986297 (320)\ttotal: 11m 21s\tremaining: 6m 20s\n",
            "340:\ttest: 0.9986386\tbest: 0.9986428 (337)\ttotal: 12m 1s\tremaining: 5m 36s\n",
            "360:\ttest: 0.9986512\tbest: 0.9986539 (353)\ttotal: 12m 43s\tremaining: 4m 53s\n",
            "380:\ttest: 0.9986716\tbest: 0.9986716 (380)\ttotal: 13m 15s\tremaining: 4m 8s\n",
            "400:\ttest: 0.9986764\tbest: 0.9986821 (390)\ttotal: 13m 54s\tremaining: 3m 25s\n",
            "420:\ttest: 0.9987136\tbest: 0.9987136 (420)\ttotal: 14m 28s\tremaining: 2m 42s\n",
            "440:\ttest: 0.9987289\tbest: 0.9987337 (433)\ttotal: 15m\tremaining: 2m\n",
            "460:\ttest: 0.9987395\tbest: 0.9987395 (460)\ttotal: 15m 34s\tremaining: 1m 19s\n",
            "480:\ttest: 0.9987586\tbest: 0.9987586 (480)\ttotal: 16m 10s\tremaining: 38.3s\n",
            "499:\ttest: 0.9987563\tbest: 0.9987627 (484)\ttotal: 16m 46s\tremaining: 0us\n",
            "\n",
            "bestTest = 0.9987627409\n",
            "bestIteration = 484\n",
            "\n",
            "Shrink model to first 485 iterations.\n"
          ]
        },
        {
          "output_type": "execute_result",
          "data": {
            "text/plain": [
              "<catboost.core.CatBoostClassifier at 0x7ff712cc4d50>"
            ]
          },
          "metadata": {},
          "execution_count": 166
        }
      ]
    },
    {
      "cell_type": "markdown",
      "metadata": {
        "id": "XfgognRfMC4a"
      },
      "source": [
        "**Prediction for validation set**"
      ]
    },
    {
      "cell_type": "code",
      "metadata": {
        "id": "IuA_h_i_MEqx"
      },
      "source": [
        "preds = clf.predict(X_validation)"
      ],
      "execution_count": null,
      "outputs": []
    },
    {
      "cell_type": "markdown",
      "metadata": {
        "id": "VNHn90w6MKgN"
      },
      "source": [
        "**Confusion matrix**"
      ]
    },
    {
      "cell_type": "code",
      "metadata": {
        "colab": {
          "base_uri": "https://localhost:8080/",
          "height": 351
        },
        "id": "BbBus4uBML1W",
        "outputId": "21deb44e-711b-4b6d-b84b-5abd635a09ae"
      },
      "source": [
        "cm = pd.crosstab(y_validation.values, preds, rownames=['Actual'], colnames=['Predicted'])\n",
        "fig, (ax1) = plt.subplots(ncols=1, figsize=(5,5))\n",
        "sns.heatmap(cm, \n",
        "            xticklabels=['Not Fraud', 'Fraud'],\n",
        "            yticklabels=['Not Fraud', 'Fraud'],\n",
        "            annot=True,ax=ax1,\n",
        "            linewidths=.2,linecolor=\"Darkblue\", cmap=\"Blues\")\n",
        "plt.title('Confusion Matrix', fontsize=14)\n",
        "plt.show()"
      ],
      "execution_count": null,
      "outputs": [
        {
          "output_type": "display_data",
          "data": {
            "image/png": "[encoded data removed]",
            "text/plain": [
              "<Figure size 360x360 with 2 Axes>"
            ]
          },
          "metadata": {
            "needs_background": "light"
          }
        }
      ]
    },
    {
      "cell_type": "markdown",
      "metadata": {
        "id": "pgSTVL-OMVRg"
      },
      "source": [
        "**Validation ROC-AUC**"
      ]
    },
    {
      "cell_type": "code",
      "metadata": {
        "colab": {
          "base_uri": "https://localhost:8080/"
        },
        "id": "BV6JZecsMT8Z",
        "outputId": "0e4a8f15-8285-4804-f75a-0a4ad4ff8e0b"
      },
      "source": [
        "print(f\"ROC-AUC score: {roc_auc_score(y_validation.values, preds)}\")\n"
      ],
      "execution_count": null,
      "outputs": [
        {
          "output_type": "stream",
          "name": "stdout",
          "text": [
            "ROC-AUC score: 0.9197548614234788\n"
          ]
        }
      ]
    },
    {
      "cell_type": "markdown",
      "metadata": {
        "id": "tL_gnO9DlA8f"
      },
      "source": [
        "**CatBoost Regressor**"
      ]
    },
    {
      "cell_type": "code",
      "metadata": {
        "colab": {
          "base_uri": "https://localhost:8080/",
          "height": 911,
          "referenced_widgets": [
            "fc75adb729ed45f3b1f53bb2b5a55abd"
          ]
        },
        "id": "iUtGQfGFlDpP",
        "outputId": "784442d1-6938-4320-9c28-22a1ad0f398b"
      },
      "source": [
        "from catboost import CatBoostRegressor\n",
        "model=CatBoostRegressor(iterations=50, depth=3, learning_rate=0.1, loss_function='RMSE')\n",
        "model.fit(X_train, y_train,cat_features=categorical_features_indices,eval_set=(X_validation, y_validation),plot=True)"
      ],
      "execution_count": null,
      "outputs": [
        {
          "output_type": "display_data",
          "data": {
            "application/vnd.jupyter.widget-view+json": {
              "model_id": "fc75adb729ed45f3b1f53bb2b5a55abd",
              "version_minor": 0,
              "version_major": 2
            },
            "text/plain": [
              "MetricVisualizer(layout=Layout(align_self='stretch', height='500px'))"
            ]
          },
          "metadata": {}
        },
        {
          "output_type": "stream",
          "name": "stdout",
          "text": [
            "0:\tlearn: 0.0313062\ttest: 0.0318115\tbest: 0.0318115 (0)\ttotal: 241ms\tremaining: 11.8s\n",
            "1:\tlearn: 0.0299933\ttest: 0.0305544\tbest: 0.0305544 (1)\ttotal: 407ms\tremaining: 9.77s\n",
            "2:\tlearn: 0.0288822\ttest: 0.0294878\tbest: 0.0294878 (2)\ttotal: 530ms\tremaining: 8.3s\n",
            "3:\tlearn: 0.0279499\ttest: 0.0285528\tbest: 0.0285528 (3)\ttotal: 648ms\tremaining: 7.45s\n",
            "4:\tlearn: 0.0271667\ttest: 0.0277966\tbest: 0.0277966 (4)\ttotal: 760ms\tremaining: 6.84s\n",
            "5:\tlearn: 0.0264956\ttest: 0.0271442\tbest: 0.0271442 (5)\ttotal: 934ms\tremaining: 6.85s\n",
            "6:\tlearn: 0.0259395\ttest: 0.0266029\tbest: 0.0266029 (6)\ttotal: 1.05s\tremaining: 6.44s\n",
            "7:\tlearn: 0.0254934\ttest: 0.0261532\tbest: 0.0261532 (7)\ttotal: 1.16s\tremaining: 6.08s\n",
            "8:\tlearn: 0.0251108\ttest: 0.0257821\tbest: 0.0257821 (8)\ttotal: 1.27s\tremaining: 5.79s\n",
            "9:\tlearn: 0.0248041\ttest: 0.0254722\tbest: 0.0254722 (9)\ttotal: 1.38s\tremaining: 5.52s\n",
            "10:\tlearn: 0.0245513\ttest: 0.0252186\tbest: 0.0252186 (10)\ttotal: 1.49s\tremaining: 5.3s\n",
            "11:\tlearn: 0.0243418\ttest: 0.0250074\tbest: 0.0250074 (11)\ttotal: 1.6s\tremaining: 5.08s\n",
            "12:\tlearn: 0.0241707\ttest: 0.0248309\tbest: 0.0248309 (12)\ttotal: 1.72s\tremaining: 4.9s\n",
            "13:\tlearn: 0.0240279\ttest: 0.0246893\tbest: 0.0246893 (13)\ttotal: 1.85s\tremaining: 4.75s\n",
            "14:\tlearn: 0.0239099\ttest: 0.0245724\tbest: 0.0245724 (14)\ttotal: 1.96s\tremaining: 4.58s\n",
            "15:\tlearn: 0.0238036\ttest: 0.0244725\tbest: 0.0244725 (15)\ttotal: 2.07s\tremaining: 4.41s\n",
            "16:\tlearn: 0.0235031\ttest: 0.0241115\tbest: 0.0241115 (16)\ttotal: 2.19s\tremaining: 4.25s\n",
            "17:\tlearn: 0.0234341\ttest: 0.0240447\tbest: 0.0240447 (17)\ttotal: 2.31s\tremaining: 4.11s\n",
            "18:\tlearn: 0.0231982\ttest: 0.0237548\tbest: 0.0237548 (18)\ttotal: 2.42s\tremaining: 3.95s\n",
            "19:\tlearn: 0.0230040\ttest: 0.0235160\tbest: 0.0235160 (19)\ttotal: 2.54s\tremaining: 3.81s\n",
            "20:\tlearn: 0.0227017\ttest: 0.0231474\tbest: 0.0231474 (20)\ttotal: 2.66s\tremaining: 3.67s\n",
            "21:\tlearn: 0.0226647\ttest: 0.0231141\tbest: 0.0231141 (21)\ttotal: 2.76s\tremaining: 3.52s\n",
            "22:\tlearn: 0.0225329\ttest: 0.0229441\tbest: 0.0229441 (22)\ttotal: 2.88s\tremaining: 3.38s\n",
            "23:\tlearn: 0.0224551\ttest: 0.0228547\tbest: 0.0228547 (23)\ttotal: 2.99s\tremaining: 3.24s\n",
            "24:\tlearn: 0.0224336\ttest: 0.0228359\tbest: 0.0228359 (24)\ttotal: 3.11s\tremaining: 3.11s\n",
            "25:\tlearn: 0.0224133\ttest: 0.0228173\tbest: 0.0228173 (25)\ttotal: 3.22s\tremaining: 2.97s\n",
            "26:\tlearn: 0.0223980\ttest: 0.0228040\tbest: 0.0228040 (26)\ttotal: 3.33s\tremaining: 2.83s\n",
            "27:\tlearn: 0.0223037\ttest: 0.0226775\tbest: 0.0226775 (27)\ttotal: 3.44s\tremaining: 2.7s\n",
            "28:\tlearn: 0.0222931\ttest: 0.0226683\tbest: 0.0226683 (28)\ttotal: 3.55s\tremaining: 2.57s\n",
            "29:\tlearn: 0.0221445\ttest: 0.0224824\tbest: 0.0224824 (29)\ttotal: 3.67s\tremaining: 2.45s\n",
            "30:\tlearn: 0.0221370\ttest: 0.0224769\tbest: 0.0224769 (30)\ttotal: 3.78s\tremaining: 2.32s\n",
            "31:\tlearn: 0.0221308\ttest: 0.0224726\tbest: 0.0224726 (31)\ttotal: 3.89s\tremaining: 2.19s\n",
            "32:\tlearn: 0.0219630\ttest: 0.0222596\tbest: 0.0222596 (32)\ttotal: 4.01s\tremaining: 2.06s\n",
            "33:\tlearn: 0.0217936\ttest: 0.0220834\tbest: 0.0220834 (33)\ttotal: 4.12s\tremaining: 1.94s\n",
            "34:\tlearn: 0.0217885\ttest: 0.0220795\tbest: 0.0220795 (34)\ttotal: 4.23s\tremaining: 1.81s\n",
            "35:\tlearn: 0.0216545\ttest: 0.0219081\tbest: 0.0219081 (35)\ttotal: 4.34s\tremaining: 1.69s\n",
            "36:\tlearn: 0.0216521\ttest: 0.0219061\tbest: 0.0219061 (36)\ttotal: 4.46s\tremaining: 1.56s\n",
            "37:\tlearn: 0.0216484\ttest: 0.0219036\tbest: 0.0219036 (37)\ttotal: 4.57s\tremaining: 1.44s\n",
            "38:\tlearn: 0.0212758\ttest: 0.0214985\tbest: 0.0214985 (38)\ttotal: 4.68s\tremaining: 1.32s\n",
            "39:\tlearn: 0.0209686\ttest: 0.0211625\tbest: 0.0211625 (39)\ttotal: 4.79s\tremaining: 1.2s\n",
            "40:\tlearn: 0.0208558\ttest: 0.0210464\tbest: 0.0210464 (40)\ttotal: 4.91s\tremaining: 1.08s\n",
            "41:\tlearn: 0.0207641\ttest: 0.0209437\tbest: 0.0209437 (41)\ttotal: 5.03s\tremaining: 957ms\n",
            "42:\tlearn: 0.0206851\ttest: 0.0208577\tbest: 0.0208577 (42)\ttotal: 5.15s\tremaining: 838ms\n",
            "43:\tlearn: 0.0206505\ttest: 0.0208205\tbest: 0.0208205 (43)\ttotal: 5.26s\tremaining: 717ms\n",
            "44:\tlearn: 0.0206465\ttest: 0.0208203\tbest: 0.0208203 (44)\ttotal: 5.38s\tremaining: 598ms\n",
            "45:\tlearn: 0.0206019\ttest: 0.0207688\tbest: 0.0207688 (45)\ttotal: 5.49s\tremaining: 478ms\n",
            "46:\tlearn: 0.0205294\ttest: 0.0206828\tbest: 0.0206828 (46)\ttotal: 5.61s\tremaining: 358ms\n",
            "47:\tlearn: 0.0205014\ttest: 0.0206552\tbest: 0.0206552 (47)\ttotal: 5.74s\tremaining: 239ms\n",
            "48:\tlearn: 0.0204788\ttest: 0.0206342\tbest: 0.0206342 (48)\ttotal: 5.86s\tremaining: 120ms\n",
            "49:\tlearn: 0.0204753\ttest: 0.0206332\tbest: 0.0206332 (49)\ttotal: 5.97s\tremaining: 0us\n",
            "\n",
            "bestTest = 0.02063317828\n",
            "bestIteration = 49\n",
            "\n"
          ]
        },
        {
          "output_type": "execute_result",
          "data": {
            "text/plain": [
              "<catboost.core.CatBoostRegressor at 0x7ff6ea51a050>"
            ]
          },
          "metadata": {},
          "execution_count": 173
        }
      ]
    },
    {
      "cell_type": "markdown",
      "metadata": {
        "id": "zd6JaVPPmyro"
      },
      "source": [
        "**Prediction for validation set**"
      ]
    },
    {
      "cell_type": "code",
      "metadata": {
        "id": "3b22iM-ilbeC"
      },
      "source": [
        "preds = model.predict(X_validation)"
      ],
      "execution_count": null,
      "outputs": []
    },
    {
      "cell_type": "markdown",
      "metadata": {
        "id": "Zlv8Es0Nm7Ku"
      },
      "source": [
        "**Validation ROC-AUC**"
      ]
    },
    {
      "cell_type": "code",
      "metadata": {
        "colab": {
          "base_uri": "https://localhost:8080/"
        },
        "id": "xh6zU7zTmOW9",
        "outputId": "3ac19d62-0a5a-4272-9970-4b2f1c24e3b8"
      },
      "source": [
        "print(f\"ROC-AUC score: {roc_auc_score(y_validation.values, preds)}\")\n"
      ],
      "execution_count": null,
      "outputs": [
        {
          "output_type": "stream",
          "name": "stdout",
          "text": [
            "ROC-AUC score: 0.9880343741423817\n"
          ]
        }
      ]
    },
    {
      "cell_type": "markdown",
      "metadata": {
        "id": "-saflZvnn2fb"
      },
      "source": [
        "**Here , I used two algorithms to find the performance in fraud detection.  When using CatBoost Alogrithm , the model is 91% accurate and when it comes to using CatBoost Regressor Algorithm , the model is 98% accurate. \n",
        "I used these two algorithms as CatBoost converts categorical values into numbers using various statistics on combinations of categorical features and combinations of categorical and numerical features**"
      ]
    }
  ]
}